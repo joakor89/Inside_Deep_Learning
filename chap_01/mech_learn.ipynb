{
 "cells": [
  {
   "cell_type": "markdown",
   "id": "4ef173ab",
   "metadata": {},
   "source": [
    "# The Mechanism of Learning\n",
    "\n",
    "### Loading Libraries"
   ]
  },
  {
   "cell_type": "code",
   "execution_count": 1,
   "id": "119ccd29",
   "metadata": {},
   "outputs": [],
   "source": [
    "# Numerical Computing\n",
    "import numpy as np\n",
    "\n",
    "# Data Manipulation\n",
    "import pandas as pd\n",
    "\n",
    "# Data Visualization\n",
    "import seaborn as sns\n",
    "import matplotlib.pyplot as plt\n",
    "import matplotlib_inline.backend_inline\n",
    "\n",
    "# Iterate Optimization\n",
    "# from tqdm.autonotebook import tqdm\n",
    "from tqdm import tqdm\n",
    "\n",
    "# PyTorch\n",
    "import torch\n",
    "from torch.utils.data import Dataset\n",
    "\n",
    "# Time\n",
    "import timeit\n",
    "\n",
    "# Warning\n",
    "import warnings\n",
    "\n",
    "# Scikit-Learn\n",
    "from sklearn.datasets import fetch_openml"
   ]
  },
  {
   "cell_type": "code",
   "execution_count": 2,
   "id": "2d069744",
   "metadata": {},
   "outputs": [],
   "source": [
    "# Visualization Performance Set-Up\n",
    "%matplotlib inline\n",
    "\n",
    "matplotlib_inline.backend_inline.set_matplotlib_formats('png', 'pdf')"
   ]
  },
  {
   "cell_type": "markdown",
   "id": "342a71a2",
   "metadata": {},
   "source": [
    "### The World as A Tensor"
   ]
  },
  {
   "cell_type": "code",
   "execution_count": 3,
   "id": "1d06c5f2",
   "metadata": {},
   "outputs": [],
   "source": [
    "torch_scalar = torch.tensor(3.14)\n",
    "torch_vector = torch.tensor([1, 2, 3, 4])\n",
    "torch_matrix = torch.tensor([[1, 2,],\n",
    "                             [3, 4,],\n",
    "                             [5, 6,], \n",
    "                             [7, 8,]])\n",
    "\n",
    "torch_tensor3d = torch.tensor([\n",
    "                            [\n",
    "                            [ 1,  2,  3], \n",
    "                            [ 4,  5,  6],\n",
    "                            ],\n",
    "                            [\n",
    "                            [ 7,  8,  9], \n",
    "                            [10, 11, 12],\n",
    "                            ],\n",
    "                            [\n",
    "                            [13, 14, 15], \n",
    "                            [16, 17, 18],\n",
    "                            ],\n",
    "                            [\n",
    "                            [19, 20, 21], \n",
    "                            [22, 23, 24],\n",
    "                            ]\n",
    "                              ])"
   ]
  },
  {
   "cell_type": "code",
   "execution_count": 4,
   "id": "bae4bc32",
   "metadata": {},
   "outputs": [
    {
     "name": "stdout",
     "output_type": "stream",
     "text": [
      "torch.Size([])\n",
      "torch.Size([4])\n",
      "torch.Size([4, 2])\n",
      "torch.Size([4, 2, 3])\n"
     ]
    }
   ],
   "source": [
    "# Getting tensor's shapes\n",
    "print(torch_scalar.shape)\n",
    "print(torch_vector.shape)\n",
    "print(torch_matrix.shape)\n",
    "print(torch_tensor3d.shape)"
   ]
  },
  {
   "cell_type": "code",
   "execution_count": 5,
   "id": "636f98a0",
   "metadata": {},
   "outputs": [
    {
     "name": "stdout",
     "output_type": "stream",
     "text": [
      "[[0.49202434 0.90041317 0.05595605 0.83421197]\n",
      " [0.74474405 0.8499492  0.20529378 0.97968962]\n",
      " [0.62397263 0.54353776 0.39696147 0.65286647]\n",
      " [0.29856885 0.03472659 0.06053327 0.8559731 ]]\n"
     ]
    }
   ],
   "source": [
    "# NumPy Approach as follow:\n",
    "x_np = np.random.random((4,4))\n",
    "print(x_np)"
   ]
  },
  {
   "cell_type": "code",
   "execution_count": 6,
   "id": "3937859b",
   "metadata": {},
   "outputs": [
    {
     "name": "stdout",
     "output_type": "stream",
     "text": [
      "tensor([[0.4920, 0.9004, 0.0560, 0.8342],\n",
      "        [0.7447, 0.8499, 0.2053, 0.9797],\n",
      "        [0.6240, 0.5435, 0.3970, 0.6529],\n",
      "        [0.2986, 0.0347, 0.0605, 0.8560]], dtype=torch.float64)\n"
     ]
    }
   ],
   "source": [
    "# Numpy on Tensors:\n",
    "x_pt = torch.tensor(x_np)\n",
    "print(x_pt)"
   ]
  },
  {
   "cell_type": "code",
   "execution_count": 7,
   "id": "42e4d3fc",
   "metadata": {},
   "outputs": [
    {
     "name": "stdout",
     "output_type": "stream",
     "text": [
      "float64 torch.float64\n"
     ]
    }
   ],
   "source": [
    "print(x_np.dtype, x_pt.dtype)"
   ]
  },
  {
   "cell_type": "code",
   "execution_count": 8,
   "id": "96eefa8c",
   "metadata": {},
   "outputs": [
    {
     "name": "stdout",
     "output_type": "stream",
     "text": [
      "float32 torch.float32\n"
     ]
    }
   ],
   "source": [
    "x_np = np.asarray(x_np, dtype=np.float32)\n",
    "x_pt = torch.tensor(x_np, dtype=torch.float32)\n",
    "print(x_np.dtype, x_pt.dtype)"
   ]
  },
  {
   "cell_type": "code",
   "execution_count": 9,
   "id": "e2959b71",
   "metadata": {},
   "outputs": [
    {
     "name": "stdout",
     "output_type": "stream",
     "text": [
      "[[False  True False  True]\n",
      " [ True  True False  True]\n",
      " [ True  True False  True]\n",
      " [False False False  True]]\n",
      "bool\n"
     ]
    }
   ],
   "source": [
    "b_np = (x_np > 0.5)\n",
    "print(b_np)\n",
    "print(b_np.dtype)"
   ]
  },
  {
   "cell_type": "code",
   "execution_count": 10,
   "id": "a4626879",
   "metadata": {},
   "outputs": [
    {
     "name": "stdout",
     "output_type": "stream",
     "text": [
      "tensor([[False,  True, False,  True],\n",
      "        [ True,  True, False,  True],\n",
      "        [ True,  True, False,  True],\n",
      "        [False, False, False,  True]])\n",
      "torch.bool\n"
     ]
    }
   ],
   "source": [
    "b_pt = (x_pt > 0.5)\n",
    "print(b_pt)\n",
    "print(b_pt.dtype)"
   ]
  },
  {
   "cell_type": "code",
   "execution_count": 11,
   "id": "ce011b37",
   "metadata": {},
   "outputs": [
    {
     "data": {
      "text/plain": [
       "8.529423"
      ]
     },
     "execution_count": 11,
     "metadata": {},
     "output_type": "execute_result"
    }
   ],
   "source": [
    "np.sum(x_np)"
   ]
  },
  {
   "cell_type": "code",
   "execution_count": 12,
   "id": "9e1ec7a2",
   "metadata": {},
   "outputs": [
    {
     "data": {
      "text/plain": [
       "tensor(8.5294)"
      ]
     },
     "execution_count": 12,
     "metadata": {},
     "output_type": "execute_result"
    }
   ],
   "source": [
    "torch.sum(x_pt)"
   ]
  },
  {
   "cell_type": "code",
   "execution_count": 13,
   "id": "88bc230c",
   "metadata": {},
   "outputs": [
    {
     "data": {
      "text/plain": [
       "array([[0.49202433, 0.74474406, 0.62397265, 0.29856884],\n",
       "       [0.90041316, 0.8499492 , 0.54353774, 0.03472659],\n",
       "       [0.05595605, 0.20529379, 0.39696148, 0.06053327],\n",
       "       [0.83421195, 0.9796896 , 0.6528665 , 0.8559731 ]], dtype=float32)"
      ]
     },
     "execution_count": 13,
     "metadata": {},
     "output_type": "execute_result"
    }
   ],
   "source": [
    "np.transpose(x_np)"
   ]
  },
  {
   "cell_type": "code",
   "execution_count": 14,
   "id": "5714bf8e",
   "metadata": {},
   "outputs": [
    {
     "data": {
      "text/plain": [
       "tensor([[0.4920, 0.7447, 0.6240, 0.2986],\n",
       "        [0.9004, 0.8499, 0.5435, 0.0347],\n",
       "        [0.0560, 0.2053, 0.3970, 0.0605],\n",
       "        [0.8342, 0.9797, 0.6529, 0.8560]])"
      ]
     },
     "execution_count": 14,
     "metadata": {},
     "output_type": "execute_result"
    }
   ],
   "source": [
    "torch.transpose(x_pt, 0, 1)"
   ]
  },
  {
   "cell_type": "code",
   "execution_count": 15,
   "id": "f4f95918",
   "metadata": {},
   "outputs": [
    {
     "name": "stdout",
     "output_type": "stream",
     "text": [
      "torch.Size([3, 2, 4])\n"
     ]
    }
   ],
   "source": [
    "print(torch.transpose(torch_tensor3d, 0, 2).shape)"
   ]
  },
  {
   "cell_type": "markdown",
   "id": "61885ca6",
   "metadata": {},
   "source": [
    "#### PyTorch GPU Acceleration"
   ]
  },
  {
   "cell_type": "code",
   "execution_count": 16,
   "id": "0fba7d1d",
   "metadata": {},
   "outputs": [],
   "source": [
    "x = torch.rand(2**11, 2**11)\n",
    "\n",
    "time_cpu = timeit.timeit(\"x@x\", globals=globals(), number=100)"
   ]
  },
  {
   "cell_type": "code",
   "execution_count": 17,
   "id": "177ad6f0",
   "metadata": {},
   "outputs": [
    {
     "name": "stdout",
     "output_type": "stream",
     "text": [
      "Is CUDA available? : False\n"
     ]
    }
   ],
   "source": [
    "print(\"Is CUDA available? :\", torch.cuda.is_available())\n",
    "device = torch.device(\"cuda\")"
   ]
  },
  {
   "cell_type": "code",
   "execution_count": 19,
   "id": "ffe5af4d",
   "metadata": {},
   "outputs": [],
   "source": [
    "x = x.to(device)\n",
    "time_gpu = timeit.timeit(\"x@x\", globals=globals(), number=100)"
   ]
  },
  {
   "cell_type": "code",
   "execution_count": 21,
   "id": "7f0acc03",
   "metadata": {},
   "outputs": [],
   "source": [
    "# x*y"
   ]
  },
  {
   "cell_type": "markdown",
   "id": "5a142bcf",
   "metadata": {},
   "source": [
    "#### Setting up a MoveTo Function:"
   ]
  },
  {
   "cell_type": "code",
   "execution_count": 23,
   "id": "cb2a1111",
   "metadata": {},
   "outputs": [],
   "source": [
    "def moveTo(obj, device):\n",
    "    \"\"\"\n",
    "    obj: the python object to move to a device, or to move its contents to a device\n",
    "    device: the compute device to move objects to\n",
    "    \"\"\"\n",
    "    if isinstance(obj, list):\n",
    "        return [moveTo(x, device) for x in obj]\n",
    "    elif isinstance(obj, tuple):\n",
    "        return tuple(moveTo(list(obj), device))\n",
    "    elif isinstance(obj, set):\n",
    "        return set(moveTo(list(obj), device))\n",
    "    elif isinstance(obj, dict):\n",
    "        to_ret = dict()\n",
    "        for key, value in obj.items():\n",
    "            to_ret[moveTo(key, device)] = moveTo(value, device)\n",
    "        return to_ret\n",
    "    elif hasattr(obj, \"to\"):\n",
    "        return obj.to(device)\n",
    "    else:\n",
    "        return obj\n",
    "    \n",
    "some_tensors = [torch.tensor(1), torch.tensor(2)]\n",
    "print(some_tensors)\n",
    "print(moveTo(some_tensors, device))"
   ]
  },
  {
   "cell_type": "markdown",
   "id": "4c5fca2f",
   "metadata": {},
   "source": [
    "## "
   ]
  },
  {
   "cell_type": "code",
   "execution_count": 30,
   "id": "67a0adf8",
   "metadata": {},
   "outputs": [
    {
     "name": "stderr",
     "output_type": "stream",
     "text": [
      "/Users/isisromero/anaconda3/envs/NLP_transformer/lib/python3.11/site-packages/seaborn/_oldcore.py:1119: FutureWarning: use_inf_as_na option is deprecated and will be removed in a future version. Convert inf values to NaN before operating instead.\n",
      "  with pd.option_context('mode.use_inf_as_na', True):\n",
      "/Users/isisromero/anaconda3/envs/NLP_transformer/lib/python3.11/site-packages/seaborn/_oldcore.py:1119: FutureWarning: use_inf_as_na option is deprecated and will be removed in a future version. Convert inf values to NaN before operating instead.\n",
      "  with pd.option_context('mode.use_inf_as_na', True):\n"
     ]
    },
    {
     "data": {
      "application/pdf": "[encoded data removed]",
      "image/png": "[encoded data removed]",
      "text/plain": [
       "<Figure size 640x480 with 1 Axes>"
      ]
     },
     "metadata": {},
     "output_type": "display_data"
    }
   ],
   "source": [
    "def f(x):\n",
    "    return torch.pow((x-2.0), 2)\n",
    "\n",
    "x_axis_vals = np.linspace(-7,9,100) \n",
    "y_axis_vals = f(torch.tensor(x_axis_vals)).numpy()\n",
    "\n",
    "sns.lineplot(x=x_axis_vals, y=y_axis_vals, label='$f(x)=(x-2)^2$')\n",
    "plt.grid(True)\n",
    "plt.show()"
   ]
  },
  {
   "cell_type": "markdown",
   "id": "505e98ad",
   "metadata": {},
   "source": [
    "##### Using Derivative"
   ]
  },
  {
   "cell_type": "code",
   "execution_count": 31,
   "id": "c3953dd5",
   "metadata": {},
   "outputs": [
    {
     "name": "stderr",
     "output_type": "stream",
     "text": [
      "/Users/isisromero/anaconda3/envs/NLP_transformer/lib/python3.11/site-packages/seaborn/_oldcore.py:1119: FutureWarning: use_inf_as_na option is deprecated and will be removed in a future version. Convert inf values to NaN before operating instead.\n",
      "  with pd.option_context('mode.use_inf_as_na', True):\n",
      "/Users/isisromero/anaconda3/envs/NLP_transformer/lib/python3.11/site-packages/seaborn/_oldcore.py:1119: FutureWarning: use_inf_as_na option is deprecated and will be removed in a future version. Convert inf values to NaN before operating instead.\n",
      "  with pd.option_context('mode.use_inf_as_na', True):\n",
      "/Users/isisromero/anaconda3/envs/NLP_transformer/lib/python3.11/site-packages/seaborn/_oldcore.py:1119: FutureWarning: use_inf_as_na option is deprecated and will be removed in a future version. Convert inf values to NaN before operating instead.\n",
      "  with pd.option_context('mode.use_inf_as_na', True):\n",
      "/Users/isisromero/anaconda3/envs/NLP_transformer/lib/python3.11/site-packages/seaborn/_oldcore.py:1119: FutureWarning: use_inf_as_na option is deprecated and will be removed in a future version. Convert inf values to NaN before operating instead.\n",
      "  with pd.option_context('mode.use_inf_as_na', True):\n",
      "/Users/isisromero/anaconda3/envs/NLP_transformer/lib/python3.11/site-packages/seaborn/_oldcore.py:1119: FutureWarning: use_inf_as_na option is deprecated and will be removed in a future version. Convert inf values to NaN before operating instead.\n",
      "  with pd.option_context('mode.use_inf_as_na', True):\n",
      "/Users/isisromero/anaconda3/envs/NLP_transformer/lib/python3.11/site-packages/seaborn/_oldcore.py:1119: FutureWarning: use_inf_as_na option is deprecated and will be removed in a future version. Convert inf values to NaN before operating instead.\n",
      "  with pd.option_context('mode.use_inf_as_na', True):\n"
     ]
    },
    {
     "data": {
      "application/pdf": "[encoded data removed]",
      "image/png": "[encoded data removed]",
      "text/plain": [
       "<Figure size 640x480 with 1 Axes>"
      ]
     },
     "metadata": {},
     "output_type": "display_data"
    }
   ],
   "source": [
    "def fP(x): #Defining the derivative of f(x) manually\n",
    "    return 2*x-4\n",
    "\n",
    "y_axis_vals_p = fP(torch.tensor(x_axis_vals)).numpy()\n",
    "\n",
    "#First, lets draw a black line at 0, so that we can easily tell if something is positive or negative\n",
    "sns.lineplot(x=x_axis_vals, y=[0.0]*len(x_axis_vals), label=\"0\", color='black')\n",
    "sns.lineplot(x=x_axis_vals, y=y_axis_vals, label='$f(x) = (x-2)^2$')\n",
    "sns.lineplot(x=x_axis_vals, y=y_axis_vals_p, label=\"$f'(x)=2 x - 4$\")\n",
    "plt.grid(True)\n",
    "plt.show()"
   ]
  },
  {
   "cell_type": "markdown",
   "id": "e771002e",
   "metadata": {},
   "source": [
    "##### Calculating a Derivative with Automatic Differentiation"
   ]
  },
  {
   "cell_type": "code",
   "execution_count": null,
   "id": "9c1756c0",
   "metadata": {},
   "outputs": [],
   "source": [
    "x = torch.tensor([-3.5], requires_grad=True)\n",
    "\n",
    "print(x.grad)"
   ]
  },
  {
   "cell_type": "code",
   "execution_count": null,
   "id": "27fccc3e",
   "metadata": {},
   "outputs": [],
   "source": [
    "value = f(x)\n",
    "\n",
    "print(value)"
   ]
  },
  {
   "cell_type": "code",
   "execution_count": null,
   "id": "5c5e0f05",
   "metadata": {},
   "outputs": [],
   "source": [
    "value.backward()\n",
    "\n",
    "print(x.grad)"
   ]
  },
  {
   "cell_type": "code",
   "execution_count": null,
   "id": "03830b60",
   "metadata": {},
   "outputs": [],
   "source": [
    "x = torch.tensor([-3.5], requires_grad=True)\n",
    "\n",
    "x_cur = x.clone()\n",
    "x_prev = x_cur*100 \n",
    "epsilon = 1e-5\n",
    "eta = 0.1\n",
    "\n",
    "while torch.linalg.norm(x_cur-x_prev) > epsilon:\n",
    "    x_prev = x_cur.clone() \n",
    "    \n",
    "    value = f(x)\n",
    "    value.backward()\n",
    "    x.data -= eta * x.grad\n",
    "    x.grad.zero_() \n",
    "    \n",
    "    x_cur = x.data\n",
    "    \n",
    "print(x_cur)"
   ]
  },
  {
   "cell_type": "code",
   "execution_count": null,
   "id": "b3a2bcf4",
   "metadata": {},
   "outputs": [],
   "source": [
    "x_param = torch.nn.Parameter(torch.tensor([-3.5]), requires_grad=True)"
   ]
  },
  {
   "cell_type": "code",
   "execution_count": null,
   "id": "4df6bbcc",
   "metadata": {},
   "outputs": [],
   "source": [
    "optimizer = torch.optim.SGD([x_param], lr=eta)"
   ]
  },
  {
   "cell_type": "code",
   "execution_count": null,
   "id": "cb3b68aa",
   "metadata": {},
   "outputs": [],
   "source": [
    "for epoch in range(60):\n",
    "    optimizer.zero_grad() \n",
    "    loss_incurred  = f(x_param)\n",
    "    loss_incurred.backward()\n",
    "    optimizer.step() \n",
    "\n",
    "print(x_param.data)"
   ]
  },
  {
   "cell_type": "code",
   "execution_count": null,
   "id": "3826a790",
   "metadata": {},
   "outputs": [],
   "source": [
    "X, y = fetch_openml('mnist_784', version=1, return_X_y=True)\n",
    "\n",
    "print(X.shape)"
   ]
  },
  {
   "cell_type": "code",
   "execution_count": null,
   "id": "17766687",
   "metadata": {},
   "outputs": [],
   "source": [
    "class SimpleDataset(Dataset):\n",
    "        \n",
    "    def __init__(self, X, y):\n",
    "        super(SimpleDataset, self).__init__()\n",
    "        self.X = X\n",
    "        self.y = y\n",
    "    \n",
    "    def __getitem__(self, index):\n",
    "        inputs = torch.tensor(self.X[index,:], dtype=torch.float32)\n",
    "        targets = torch.tensor(int(self.y[index]), dtype=torch.int64)\n",
    "        return inputs, targets \n",
    "\n",
    "    def __len__(self):\n",
    "        return self.X.shape[0]\n",
    "\n",
    "dataset = SimpleDataset(X, y)"
   ]
  },
  {
   "cell_type": "code",
   "execution_count": null,
   "id": "4c938e21",
   "metadata": {},
   "outputs": [],
   "source": [
    "print(\"Length: \", len(dataset))\n",
    "example, label = dataset[0]\n",
    "print(\"Features: \", example.shape) #Will return 784\n",
    "print(\"Label of index 0: \", label)"
   ]
  },
  {
   "cell_type": "code",
   "execution_count": null,
   "id": "d5095c00",
   "metadata": {},
   "outputs": [],
   "source": [
    "plt.imshow(example.reshape((28,28)))"
   ]
  },
  {
   "cell_type": "code",
   "execution_count": null,
   "id": "55113b3e",
   "metadata": {},
   "outputs": [],
   "source": [
    "train_size = int(len(dataset)*0.8)\n",
    "test_size = len(dataset)-train_size\n",
    "\n",
    "train_dataset, test_dataset = torch.utils.data.random_split(dataset, (train_size, test_size))\n",
    "print(\"{} examples for training and {} for testing\".format(len(train_dataset), len(test_dataset)))"
   ]
  },
  {
   "cell_type": "code",
   "execution_count": null,
   "id": "b843d7e1",
   "metadata": {},
   "outputs": [],
   "source": []
  }
 ],
 "metadata": {
  "kernelspec": {
   "display_name": "Python 3 (ipykernel)",
   "language": "python",
   "name": "python3"
  },
  "language_info": {
   "codemirror_mode": {
    "name": "ipython",
    "version": 3
   },
   "file_extension": ".py",
   "mimetype": "text/x-python",
   "name": "python",
   "nbconvert_exporter": "python",
   "pygments_lexer": "ipython3",
   "version": "3.11.9"
  }
 },
 "nbformat": 4,
 "nbformat_minor": 5
}
