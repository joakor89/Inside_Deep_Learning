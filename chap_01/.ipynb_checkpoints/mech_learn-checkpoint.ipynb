{
 "cells": [
  {
   "cell_type": "markdown",
   "id": "4ef173ab",
   "metadata": {},
   "source": [
    "# The Mechanism of Learning\n",
    "\n",
    "### Loading Libraries"
   ]
  },
  {
   "cell_type": "code",
   "execution_count": 4,
   "id": "119ccd29",
   "metadata": {},
   "outputs": [],
   "source": [
    "# Numerical Computing\n",
    "import numpy as np\n",
    "\n",
    "# Data Manipulation\n",
    "import pandas as pd\n",
    "\n",
    "# Data Visualization\n",
    "import matplotlib.pyplot as plt\n",
    "import seaborn as sns\n",
    "\n",
    "# Iterate Optimization\n",
    "# from tqdm.autonotebook import tqdm\n",
    "from tqdm import tqdm\n",
    "\n",
    "# PyTorch\n",
    "import torch"
   ]
  },
  {
   "cell_type": "code",
   "execution_count": 5,
   "id": "2d069744",
   "metadata": {},
   "outputs": [],
   "source": [
    "# Visualization Performance Set-Up\n",
    "%matplotlib inline\n",
    "import matplotlib_inline.backend_inline\n",
    "\n",
    "matplotlib_inline.backend_inline.set_matplotlib_formats('png', 'pdf')"
   ]
  },
  {
   "cell_type": "markdown",
   "id": "342a71a2",
   "metadata": {},
   "source": [
    "### The World as A Tensor"
   ]
  },
  {
   "cell_type": "code",
   "execution_count": 6,
   "id": "1d06c5f2",
   "metadata": {},
   "outputs": [],
   "source": [
    "torch_scalar = torch.tensor(3.14)\n",
    "torch_vector = torch.tensor([1, 2, 3, 4])\n",
    "torch_matrix = torch.tensor([[1, 2,],\n",
    "                             [3, 4,],\n",
    "                             [5, 6,], \n",
    "                             [7, 8,]])\n",
    "\n",
    "torch_tensor3d = torch.tensor([\n",
    "                            [\n",
    "                            [ 1,  2,  3], \n",
    "                            [ 4,  5,  6],\n",
    "                            ],\n",
    "                            [\n",
    "                            [ 7,  8,  9], \n",
    "                            [10, 11, 12],\n",
    "                            ],\n",
    "                            [\n",
    "                            [13, 14, 15], \n",
    "                            [16, 17, 18],\n",
    "                            ],\n",
    "                            [\n",
    "                            [19, 20, 21], \n",
    "                            [22, 23, 24],\n",
    "                            ]\n",
    "                              ])"
   ]
  },
  {
   "cell_type": "code",
   "execution_count": 7,
   "id": "bae4bc32",
   "metadata": {},
   "outputs": [
    {
     "name": "stdout",
     "output_type": "stream",
     "text": [
      "torch.Size([])\n",
      "torch.Size([4])\n",
      "torch.Size([4, 2])\n",
      "torch.Size([4, 2, 3])\n"
     ]
    }
   ],
   "source": [
    "# Getting tensor's shapes\n",
    "print(torch_scalar.shape)\n",
    "print(torch_vector.shape)\n",
    "print(torch_matrix.shape)\n",
    "print(torch_tensor3d.shape)"
   ]
  },
  {
   "cell_type": "code",
   "execution_count": 8,
   "id": "636f98a0",
   "metadata": {},
   "outputs": [
    {
     "name": "stdout",
     "output_type": "stream",
     "text": [
      "[[0.43084198 0.19174837 0.15720407 0.03864828]\n",
      " [0.76068032 0.88094139 0.99762218 0.10706282]\n",
      " [0.41023892 0.02347961 0.17536861 0.72719724]\n",
      " [0.09254272 0.34020975 0.10861416 0.51437882]]\n"
     ]
    }
   ],
   "source": [
    "# NumPy Approach as follow:\n",
    "x_np = np.random.random((4,4))\n",
    "print(x_np)"
   ]
  },
  {
   "cell_type": "code",
   "execution_count": 9,
   "id": "3937859b",
   "metadata": {},
   "outputs": [
    {
     "name": "stdout",
     "output_type": "stream",
     "text": [
      "tensor([[0.4308, 0.1917, 0.1572, 0.0386],\n",
      "        [0.7607, 0.8809, 0.9976, 0.1071],\n",
      "        [0.4102, 0.0235, 0.1754, 0.7272],\n",
      "        [0.0925, 0.3402, 0.1086, 0.5144]], dtype=torch.float64)\n"
     ]
    }
   ],
   "source": [
    "# Numpy on Tensors:\n",
    "x_pt = torch.tensor(x_np)\n",
    "print(x_pt)"
   ]
  },
  {
   "cell_type": "code",
   "execution_count": null,
   "id": "42e4d3fc",
   "metadata": {},
   "outputs": [],
   "source": []
  }
 ],
 "metadata": {
  "kernelspec": {
   "display_name": "Python 3 (ipykernel)",
   "language": "python",
   "name": "python3"
  },
  "language_info": {
   "codemirror_mode": {
    "name": "ipython",
    "version": 3
   },
   "file_extension": ".py",
   "mimetype": "text/x-python",
   "name": "python",
   "nbconvert_exporter": "python",
   "pygments_lexer": "ipython3",
   "version": "3.11.9"
  }
 },
 "nbformat": 4,
 "nbformat_minor": 5
}
