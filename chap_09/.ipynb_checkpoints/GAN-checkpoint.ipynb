{
 "cells": [
  {
   "cell_type": "markdown",
   "id": "312b1223",
   "metadata": {},
   "source": [
    "# Generative Adversarial Networks\n",
    "\n",
    "### Loading Libraries"
   ]
  },
  {
   "cell_type": "code",
   "execution_count": null,
   "id": "3b70d78c",
   "metadata": {},
   "outputs": [],
   "source": [
    "# Numerical Computing\n",
    "import numpy as np\n",
    "\n",
    "# Data Manipulation\n",
    "import pandas as pd\n",
    "\n",
    "# Data Visualization\n",
    "import seaborn as sns\n",
    "import matplotlib\n",
    "import matplotlib_inline\n",
    "import matplotlib.pyplot as plt\n",
    "from matplotlib.pyplot import imshow\n",
    "import matplotlib.patches as patches\n",
    "\n",
    "# Dataset's Iteration Performance\n",
    "from tqdm import tqdm\n",
    "\n",
    "# Time\n",
    "import time\n",
    "\n",
    "# OS\n",
    "import re\n",
    "import sys\n",
    "import json\n",
    "import string\n",
    "import unicodedata\n",
    "from glob import glob\n",
    "from io import BytesIO\n",
    "from imageio import imread\n",
    "from zipfile import ZipFile\n",
    "import requests, zipfile, io\n",
    "from urllib.request import urlopen\n",
    "\n",
    "\n",
    "\n",
    "# SciPy\n",
    "from scipy.signal import convolve\n",
    "\n",
    "# PyTorch\n",
    "import torch\n",
    "import torchvision\n",
    "import torch.nn as nn\n",
    "from torch.utils.data import *\n",
    "from torchvision.ops import nms\n",
    "import torch.nn.functional as F\n",
    "from torchvision import transforms\n",
    "from torch.utils.data import Dataset, DataLoader\n",
    "from torchvision.models.detection import FasterRCNN\n",
    "from torchvision.models.detection.rpn import AnchorGenerator\n",
    "\n",
    "\n",
    "# IDLMAM Libraries\n",
    "from idlmam import moveTo, run_epoch, set_seed, View\n",
    "from idlmam import train_simple_network, set_seed, Flatten, weight_reset, train_network\n",
    "from idlmam import LanguageNameDataset, pad_and_pack, EmbeddingPackable, LastTimeStep, LambdaLayer\n",
    "\n",
    "\n",
    "# Scikit-Learn\n",
    "from sklearn.metrics import accuracy_score\n",
    "from sklearn.metrics import f1_score\n",
    "\n",
    "#  IPython Display\n",
    "from IPython.display import Latex\n",
    "from IPython.display import display_pdf\n",
    "from IPython.display import set_matplotlib_formats"
   ]
  },
  {
   "cell_type": "code",
   "execution_count": null,
   "id": "e4e531c2",
   "metadata": {},
   "outputs": [],
   "source": [
    "%matplotlib inline\n",
    "\n",
    "matplotlib_inline.backend_inline.set_matplotlib_formats('png', 'pdf')"
   ]
  },
  {
   "cell_type": "code",
   "execution_count": null,
   "id": "b662b02e",
   "metadata": {},
   "outputs": [],
   "source": [
    "torch.backends.cudnn.deterministic=True\n",
    "\n",
    "set_seed(42)"
   ]
  },
  {
   "cell_type": "code",
   "execution_count": null,
   "id": "9aa9ec74",
   "metadata": {},
   "outputs": [],
   "source": [
    "device = torch.device(\"cuda\") if torch.cuda.is_available() else torch.device(\"cpu\")"
   ]
  },
  {
   "cell_type": "code",
   "execution_count": null,
   "id": "8961cda9",
   "metadata": {},
   "outputs": [],
   "source": [
    "#\n",
    "batch_size = 128\n",
    "#\n",
    "\n",
    "latent_d = 128\n",
    "#\n",
    "neurons = 512\n",
    "#\n",
    "out_shape = (-1, 28, 28) \n",
    "#\n",
    "num_epochs = 10\n",
    "\n",
    "def fcLayer(in_neurons, out_neurons, leak=0.1): \n",
    "    return nn.Sequential(\n",
    "        nn.Linear(in_neurons, out_neurons),\n",
    "        nn.LeakyReLU(leak),\n",
    "        nn.LayerNorm(out_neurons)\n",
    "    )"
   ]
  },
  {
   "cell_type": "code",
   "execution_count": null,
   "id": "3a3e504b",
   "metadata": {},
   "outputs": [],
   "source": [
    "def simpleGAN(latent_d, neurons, out_shape, sigmoidG=False, leak=0.2):\n",
    "    G = nn.Sequential(\n",
    "        fcLayer(latent_d, neurons, leak),\n",
    "        fcLayer(neurons, neurons, leak),\n",
    "        fcLayer(neurons, neurons, leak),\n",
    "        nn.Linear(neurons, abs(np.prod(out_shape)) ),\n",
    "        View(out_shape)\n",
    "    )\n",
    "\n",
    "    if sigmoidG:\n",
    "        G = nn.Sequential(G, nn.Sigmoid())\n",
    "    \n",
    "    D = nn.Sequential(\n",
    "        nn.Flatten(),\n",
    "        fcLayer(abs(np.prod(out_shape)), neurons, leak),\n",
    "        fcLayer(neurons, neurons, leak),\n",
    "        fcLayer(neurons, neurons, leak),\n",
    "        nn.Linear(neurons, 1 ) \n",
    "    )\n",
    "    return G, D"
   ]
  }
 ],
 "metadata": {
  "kernelspec": {
   "display_name": "Python 3 (ipykernel)",
   "language": "python",
   "name": "python3"
  },
  "language_info": {
   "codemirror_mode": {
    "name": "ipython",
    "version": 3
   },
   "file_extension": ".py",
   "mimetype": "text/x-python",
   "name": "python",
   "nbconvert_exporter": "python",
   "pygments_lexer": "ipython3",
   "version": "3.11.9"
  }
 },
 "nbformat": 4,
 "nbformat_minor": 5
}
