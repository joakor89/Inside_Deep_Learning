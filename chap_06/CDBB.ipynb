{
 "cells": [
  {
   "cell_type": "markdown",
   "id": "c0217f31",
   "metadata": {},
   "source": [
    "# Common Design Building Blocks\n",
    "\n",
    "### Loading Libraries"
   ]
  },
  {
   "cell_type": "code",
   "execution_count": null,
   "id": "6c9b320f",
   "metadata": {},
   "outputs": [],
   "source": [
    "# Numerical Computing\n",
    "import numpy as np\n",
    "\n",
    "# Data Manipulation\n",
    "import pandas as pd\n",
    "\n",
    "# Data Visualization\n",
    "import seaborn as sns\n",
    "import matplotlib\n",
    "import matplotlib_inline\n",
    "import matplotlib.pyplot as plt\n",
    "from matplotlib.pyplot import imshow\n",
    "\n",
    "# Dataset's Iteration Performance\n",
    "from tqdm import tqdm\n",
    "\n",
    "# Time\n",
    "import time\n",
    "\n",
    "# OS\n",
    "import sys\n",
    "import string\n",
    "import unicodedata\n",
    "import requests, zipfile, io\n",
    "\n",
    "# SciPy\n",
    "from scipy.signal import convolve\n",
    "\n",
    "# PyTorch\n",
    "import torch\n",
    "import torchvision\n",
    "import torch.nn as nn\n",
    "from torch.utils.data import *\n",
    "import torch.nn.functional as F\n",
    "from torchvision import transforms\n",
    "from torch.utils.data import Dataset, DataLoader\n",
    "\n",
    "\n",
    "# IDLMAM Libraries\n",
    "from idlmam import moveTo, run_epoch, set_seed\n",
    "from idlmam import train_simple_network, set_seed, Flatten, weight_reset\n",
    "from idlmam import LanguageNameDataset, pad_and_pack, EmbeddingPackable, LastTimeStep, LambdaLayer\n",
    "\n",
    "\n",
    "# Scikit-Learn\n",
    "from sklearn.metrics import accuracy_score\n",
    "from sklearn.metrics import f1_score\n",
    "\n",
    "#  IPython Display\n",
    "from IPython.display import Latex\n",
    "from IPython.display import display_pdf\n",
    "from IPython.display import set_matplotlib_formats"
   ]
  }
 ],
 "metadata": {
  "kernelspec": {
   "display_name": "Python 3 (ipykernel)",
   "language": "python",
   "name": "python3"
  },
  "language_info": {
   "codemirror_mode": {
    "name": "ipython",
    "version": 3
   },
   "file_extension": ".py",
   "mimetype": "text/x-python",
   "name": "python",
   "nbconvert_exporter": "python",
   "pygments_lexer": "ipython3",
   "version": "3.11.9"
  }
 },
 "nbformat": 4,
 "nbformat_minor": 5
}
