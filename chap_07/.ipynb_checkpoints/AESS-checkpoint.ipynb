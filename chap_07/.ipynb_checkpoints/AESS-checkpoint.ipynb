{
 "cells": [
  {
   "cell_type": "markdown",
   "id": "2875ea74",
   "metadata": {},
   "source": [
    "# AutoEncoding & Self-Supervision\n",
    "\n",
    "### Loading Libraries"
   ]
  },
  {
   "cell_type": "code",
   "execution_count": null,
   "id": "e8c61146",
   "metadata": {},
   "outputs": [],
   "source": [
    "# Numerical Computing\n",
    "import numpy as np\n",
    "\n",
    "# Data Manipulation\n",
    "import pandas as pd\n",
    "\n",
    "# Data Visualization\n",
    "import seaborn as sns\n",
    "import matplotlib\n",
    "import matplotlib_inline\n",
    "import matplotlib.pyplot as plt\n",
    "from matplotlib.pyplot import imshow\n",
    "\n",
    "# Dataset's Iteration Performance\n",
    "from tqdm import tqdm\n",
    "\n",
    "# Time\n",
    "import time\n",
    "\n",
    "# OS\n",
    "import sys\n",
    "import string\n",
    "import unicodedata\n",
    "import requests, zipfile, io\n",
    "\n",
    "# SciPy\n",
    "from scipy.signal import convolve\n",
    "\n",
    "# PyTorch\n",
    "import torch\n",
    "import torchvision\n",
    "import torch.nn as nn\n",
    "from torch.utils.data import *\n",
    "import torch.nn.functional as F\n",
    "from torchvision import transforms\n",
    "from torch.utils.data import Dataset, DataLoader\n",
    "\n",
    "\n",
    "# IDLMAM Libraries\n",
    "from idlmam import moveTo, run_epoch, set_seed\n",
    "from idlmam import train_simple_network, set_seed, Flatten, weight_reset, train_network\n",
    "from idlmam import LanguageNameDataset, pad_and_pack, EmbeddingPackable, LastTimeStep, LambdaLayer\n",
    "\n",
    "\n",
    "# Scikit-Learn\n",
    "from sklearn.metrics import accuracy_score\n",
    "from sklearn.metrics import f1_score\n",
    "\n",
    "#  IPython Display\n",
    "from IPython.display import Latex\n",
    "from IPython.display import display_pdf\n",
    "from IPython.display import set_matplotlib_formats"
   ]
  },
  {
   "cell_type": "code",
   "execution_count": null,
   "id": "09d17a8f",
   "metadata": {},
   "outputs": [],
   "source": [
    "%matplotlib inline\n",
    "\n",
    "matplotlib_inline.backend_inline.set_matplotlib_formats('png', 'pdf')"
   ]
  },
  {
   "cell_type": "code",
   "execution_count": null,
   "id": "f92235ba",
   "metadata": {},
   "outputs": [],
   "source": [
    "torch.backends.cudnn.deterministic=True\n",
    "\n",
    "set_seed(42)"
   ]
  },
  {
   "cell_type": "code",
   "execution_count": null,
   "id": "3424b8dc",
   "metadata": {},
   "outputs": [],
   "source": [
    "device = torch.device(\"cuda\") if torch.cuda.is_available() else torch.device(\"cpu\")"
   ]
  },
  {
   "cell_type": "code",
   "execution_count": null,
   "id": "bf3c864e",
   "metadata": {},
   "outputs": [],
   "source": [
    "# Input Size\n",
    "D = 28*28 \n",
    "\n",
    "#Hidden Layer Size\n",
    "n = 2 \n",
    "# Channels\n",
    "C = 1\n",
    "\n",
    "# Classes\n",
    "classes = 10"
   ]
  },
  {
   "cell_type": "code",
   "execution_count": null,
   "id": "62f58a67",
   "metadata": {},
   "outputs": [],
   "source": [
    "class TransposeLinear(nn.Module): #Our class extends nn.Module, all PyTorch layers must extend this. \n",
    "    def __init__(self, linearLayer, bias=True):\n",
    "        super().__init__()\n",
    "        \n",
    "        self.weight = linearLayer.weight\n",
    "        if bias:\n",
    "            self.bias = nn.Parameter(torch.Tensor(linearLayer.weight.shape[1]))\n",
    "        else:\n",
    "            self.register_parameter('bias', None)\n",
    "    \n",
    "    def forward(self, x):\n",
    "        return F.linear(x, self.weight.t(), self.bias)"
   ]
  },
  {
   "cell_type": "code",
   "execution_count": null,
   "id": "4296c22d",
   "metadata": {},
   "outputs": [],
   "source": [
    "# Encoder\n",
    "linearLayer = nn.Linear(D,  n, bias=False)\n",
    "#The encoder just falltens and then uses the linear layer\n",
    "pca_encoder = nn.Sequential(\n",
    "    nn.Flatten(),\n",
    "    linearLayer,\n",
    ")\n",
    "\n",
    "# Decoder\n",
    "pca_decoder = nn.Sequential(\n",
    "    TransposeLinear(linearLayer, bias=False),\n",
    "    View(-1, 1, 28, 28)#Shape the data back to it's original form\n",
    ")\n",
    "\n",
    "# PCA Model\n",
    "pca_model = nn.Sequential(\n",
    "    pca_encoder,\n",
    "    pca_decoder\n",
    ")"
   ]
  },
  {
   "cell_type": "code",
   "execution_count": null,
   "id": "e006c92c",
   "metadata": {},
   "outputs": [],
   "source": [
    "# Orthogonal Random Set\n",
    "nn.init.orthogonal_(linearLayer.weight)"
   ]
  },
  {
   "cell_type": "code",
   "execution_count": null,
   "id": "39fb3fb6",
   "metadata": {},
   "outputs": [],
   "source": [
    "# Loss Function\n",
    "mse_loss = nn.MSELoss() \n",
    "\n",
    "# PCA Loss Function\n",
    "def mseWithOrthoLoss(x, y):\n",
    "    W = linearLayer.weight\n",
    "    I = torch.eye(W.shape[0]).to(device)\n",
    "    normal_loss =  mse_loss(x, y) \n",
    "    regularization_loss = 0.1*mse_loss(torch.mm(W, W.t()), I)\n",
    "    return normal_loss + regularization_loss"
   ]
  },
  {
   "cell_type": "code",
   "execution_count": null,
   "id": "179f531f",
   "metadata": {},
   "outputs": [],
   "source": [
    "class AutoEncodeDataset(Dataset):\n",
    "\n",
    "    def __init__(self, dataset):\n",
    "        self.dataset = dataset\n",
    "\n",
    "    def __len__(self):\n",
    "        return len(self.dataset)\n",
    "\n",
    "    def __getitem__(self, idx):\n",
    "        x, y = self.dataset.__getitem__(idx)\n",
    "        return x, x#just throw away the original label. "
   ]
  },
  {
   "cell_type": "markdown",
   "id": "d9ced820",
   "metadata": {},
   "source": [
    "### Loading Data"
   ]
  },
  {
   "cell_type": "code",
   "execution_count": null,
   "id": "8ecd0464",
   "metadata": {},
   "outputs": [],
   "source": [
    "# Train Set\n",
    "train_data = AutoEncodeDataset(torchvision.datasets.MNIST(\"./\", train=True, transform=transforms.ToTensor(), download=True))\n",
    "\n",
    "# Test Set\n",
    "test_data_xy = torchvision.datasets.MNIST(\"./\", train=False, transform=transforms.ToTensor(), download=True)\n",
    "test_data_xx = AutoEncodeDataset(test_data_xy)\n",
    "\n",
    "# Data Loader\n",
    "train_loader = DataLoader(train_data, batch_size=128, shuffle=True)\n",
    "test_loader = DataLoader(test_data_xx, batch_size=128)"
   ]
  },
  {
   "cell_type": "code",
   "execution_count": null,
   "id": "7ea4d9cd",
   "metadata": {},
   "outputs": [],
   "source": [
    "train_network(pca_model, \n",
    "mseWithOrthoLoss, \n",
    "train_loader, \n",
    "test_loader=test_loader, \n",
    "epochs=10, \n",
    "device=device)"
   ]
  },
  {
   "cell_type": "code",
   "execution_count": null,
   "id": "74cea963",
   "metadata": {},
   "outputs": [],
   "source": [
    "def encode_batch(encoder, dataset_to_encode):\n",
    "    projected = []\n",
    "    labels = []\n",
    "    encoder = encoder.eval()\n",
    "    encoder = encoder.cpu()\n",
    "    with torch.no_grad():\n",
    "        for x, y in  DataLoader(dataset_to_encode, batch_size=128):\n",
    "            z = encoder(x.cpu()) \n",
    "            projected.append( z.numpy() ) \n",
    "            labels.append( y.cpu().numpy().ravel() )\n",
    "    projected = np.vstack(projected)\n",
    "    labels = np.hstack(labels)\n",
    "    return projected, labels\n",
    "\n",
    "\n",
    "projected, labels = encode_batch(pca_encoder, test_data_xy)"
   ]
  },
  {
   "cell_type": "code",
   "execution_count": null,
   "id": "91b46f0e",
   "metadata": {},
   "outputs": [],
   "source": [
    "sns.scatterplot(x=projected[:,0], \n",
    "y=projected[:,1], \n",
    "hue=[str(l) for l in labels], \n",
    "hue_order=[str(i) for i in range(10)], \n",
    "legend=\"full\")\n",
    "\n",
    "plt.grid(True)\n",
    "plt.show()"
   ]
  },
  {
   "cell_type": "code",
   "execution_count": null,
   "id": "5be29a5f",
   "metadata": {},
   "outputs": [],
   "source": [
    "def showEncodeDecode(encode_decode, x):\n",
    "    encode_decode = encode_decode.eval()\n",
    "    encode_decode = encode_decode.cpu()\n",
    "    with torch.no_grad():\n",
    "        x_recon = encode_decode(x.cpu())\n",
    "    f, axarr = plt.subplots(1,2)\n",
    "    axarr[0].imshow(x.numpy()[0,:])\n",
    "    axarr[1].imshow(x_recon.numpy()[0,0,:])"
   ]
  },
  {
   "cell_type": "code",
   "execution_count": null,
   "id": "b125bfbd",
   "metadata": {},
   "outputs": [],
   "source": [
    "showEncodeDecode(pca_model, test_data_xy[0][0])\n",
    "\n",
    "showEncodeDecode(pca_model, test_data_xy[2][0])\n",
    "\n",
    "showEncodeDecode(pca_model, test_data_xy[10][0])"
   ]
  },
  {
   "cell_type": "markdown",
   "id": "cfac7159",
   "metadata": {},
   "source": [
    "### A simpler non-linear PCA"
   ]
  },
  {
   "cell_type": "code",
   "execution_count": null,
   "id": "73f50c3d",
   "metadata": {},
   "outputs": [],
   "source": [
    "pca_nonlinear_encode = nn.Sequential(\n",
    "    nn.Flatten(),\n",
    "    nn.Linear(D,  n),\n",
    "    nn.Tanh(), \n",
    ")\n",
    "\n",
    "pca_nonlinear_decode = nn.Sequential(\n",
    "    nn.Linear(n, D),\n",
    "    View(-1, 1, 28, 28)\n",
    ")\n",
    "\n",
    "pca_nonlinear = nn.Sequential(\n",
    "    pca_nonlinear_encode,\n",
    "    pca_nonlinear_decode\n",
    ")"
   ]
  },
  {
   "cell_type": "code",
   "execution_count": null,
   "id": "4ab22e75",
   "metadata": {},
   "outputs": [],
   "source": [
    "train_network(pca_nonlinear, \n",
    "mse_loss, \n",
    "train_loader, \n",
    "test_loader=test_loader, \n",
    "epochs=10, \n",
    "device=device)"
   ]
  },
  {
   "cell_type": "code",
   "execution_count": null,
   "id": "eaf9ce86",
   "metadata": {},
   "outputs": [],
   "source": [
    "projected, labels = encode_batch(pca_nonlinear_encode, test_data_xy)\n",
    "\n",
    "sns.scatterplot(x=projected[:,0], \n",
    "y=projected[:,1], \n",
    "hue=[str(l) for l in labels], \n",
    "hue_order=[str(i) for i in range(10)], \n",
    "legend=\"full\" )\n",
    "\n",
    "plt.grid(True)\n",
    "plt.show()"
   ]
  },
  {
   "cell_type": "code",
   "execution_count": null,
   "id": "f06d8cf6",
   "metadata": {},
   "outputs": [],
   "source": [
    "showEncodeDecode(pca_nonlinear, test_data_xy[0][0])\n",
    "\n",
    "showEncodeDecode(pca_nonlinear, test_data_xy[2][0])\n",
    "\n",
    "showEncodeDecode(pca_nonlinear, test_data_xy[10][0])"
   ]
  },
  {
   "cell_type": "code",
   "execution_count": null,
   "id": "461120d3",
   "metadata": {},
   "outputs": [],
   "source": []
  },
  {
   "cell_type": "code",
   "execution_count": null,
   "id": "1ba6bc8a",
   "metadata": {},
   "outputs": [],
   "source": []
  }
 ],
 "metadata": {
  "kernelspec": {
   "display_name": "Python 3 (ipykernel)",
   "language": "python",
   "name": "python3"
  },
  "language_info": {
   "codemirror_mode": {
    "name": "ipython",
    "version": 3
   },
   "file_extension": ".py",
   "mimetype": "text/x-python",
   "name": "python",
   "nbconvert_exporter": "python",
   "pygments_lexer": "ipython3",
   "version": "3.11.9"
  }
 },
 "nbformat": 4,
 "nbformat_minor": 5
}
