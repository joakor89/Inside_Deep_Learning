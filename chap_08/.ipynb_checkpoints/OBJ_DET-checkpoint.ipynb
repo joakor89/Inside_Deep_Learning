{
 "cells": [
  {
   "cell_type": "markdown",
   "id": "04e6caa0",
   "metadata": {},
   "source": [
    "# Object Detection\n",
    "\n",
    "### Loading Libraries"
   ]
  },
  {
   "cell_type": "code",
   "execution_count": null,
   "id": "c92cbbe3",
   "metadata": {},
   "outputs": [],
   "source": [
    "# Numerical Computing\n",
    "import numpy as np\n",
    "\n",
    "# Data Manipulation\n",
    "import pandas as pd\n",
    "\n",
    "# Data Visualization\n",
    "import seaborn as sns\n",
    "import matplotlib\n",
    "import matplotlib_inline\n",
    "import matplotlib.pyplot as plt\n",
    "from matplotlib.pyplot import imshow\n",
    "\n",
    "# Dataset's Iteration Performance\n",
    "from tqdm import tqdm\n",
    "\n",
    "# Time\n",
    "import time\n",
    "\n",
    "# OS\n",
    "import re\n",
    "import sys\n",
    "import json\n",
    "import string\n",
    "import unicodedata\n",
    "from glob import glob\n",
    "from io import BytesIO\n",
    "from imageio import imread\n",
    "from zipfile import ZipFile\n",
    "import requests, zipfile, io\n",
    "from urllib.request import urlopen\n",
    "\n",
    "\n",
    "\n",
    "# SciPy\n",
    "from scipy.signal import convolve\n",
    "\n",
    "# PyTorch\n",
    "import torch\n",
    "import torchvision\n",
    "import torch.nn as nn\n",
    "from torch.utils.data import *\n",
    "import torch.nn.functional as F\n",
    "from torchvision import transforms\n",
    "from torch.utils.data import Dataset, DataLoader\n",
    "from torchvision.models.detection import FasterRCNN\n",
    "from torchvision.models.detection.rpn import AnchorGenerator\n",
    "\n",
    "\n",
    "# IDLMAM Libraries\n",
    "from idlmam import moveTo, run_epoch, set_seed, View\n",
    "from idlmam import train_simple_network, set_seed, Flatten, weight_reset, train_network\n",
    "from idlmam import LanguageNameDataset, pad_and_pack, EmbeddingPackable, LastTimeStep, LambdaLayer\n",
    "\n",
    "\n",
    "# Scikit-Learn\n",
    "from sklearn.metrics import accuracy_score\n",
    "from sklearn.metrics import f1_score\n",
    "\n",
    "#  IPython Display\n",
    "from IPython.display import Latex\n",
    "from IPython.display import display_pdf\n",
    "from IPython.display import set_matplotlib_formats"
   ]
  },
  {
   "cell_type": "code",
   "execution_count": null,
   "id": "559ca0ef",
   "metadata": {},
   "outputs": [],
   "source": [
    "%matplotlib inline\n",
    "\n",
    "matplotlib_inline.backend_inline.set_matplotlib_formats('png', 'pdf')"
   ]
  },
  {
   "cell_type": "code",
   "execution_count": null,
   "id": "d8f5cf7d",
   "metadata": {},
   "outputs": [],
   "source": [
    "torch.backends.cudnn.deterministic=True\n",
    "\n",
    "set_seed(42)"
   ]
  },
  {
   "cell_type": "code",
   "execution_count": null,
   "id": "1cd545ce",
   "metadata": {},
   "outputs": [],
   "source": [
    "device = torch.device(\"cuda\") if torch.cuda.is_available() else torch.device(\"cpu\")"
   ]
  },
  {
   "cell_type": "markdown",
   "id": "92594430",
   "metadata": {},
   "source": [
    "### Retrieving & Loading Data"
   ]
  },
  {
   "cell_type": "code",
   "execution_count": null,
   "id": "254b975b",
   "metadata": {},
   "outputs": [],
   "source": [
    "# \n",
    "data_url_zip = \"https://github.com/kamalkraj/DATA-SCIENCE-BOWL-2018/blob/master/data/stage1_train.zip?raw=true\"\n",
    "\n",
    "# Extract The Data\n",
    "if not os.path.isdir('./data/stage1_train'):\n",
    "    resp = urlopen(data_url_zip)\n",
    "    os.mkdir(\"./data/stage1_train\")\n",
    "    zipfile = ZipFile(BytesIO(resp.read()))\n",
    "    zipfile.extractall(path = './data/stage1_train')\n",
    "\n",
    "# Get All The Image Paths\n",
    "paths = glob(\"./data/stage1_train/*\")"
   ]
  }
 ],
 "metadata": {
  "kernelspec": {
   "display_name": "Python 3 (ipykernel)",
   "language": "python",
   "name": "python3"
  },
  "language_info": {
   "codemirror_mode": {
    "name": "ipython",
    "version": 3
   },
   "file_extension": ".py",
   "mimetype": "text/x-python",
   "name": "python",
   "nbconvert_exporter": "python",
   "pygments_lexer": "ipython3",
   "version": "3.11.9"
  }
 },
 "nbformat": 4,
 "nbformat_minor": 5
}
